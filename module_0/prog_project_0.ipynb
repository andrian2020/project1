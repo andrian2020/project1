{
 "cells": [
  {
   "cell_type": "code",
   "execution_count": 3,
   "metadata": {},
   "outputs": [
    {
     "name": "stdout",
     "output_type": "stream",
     "text": [
      "Ваш алгоритм угадывает число в среднем за 9 попыток\n"
     ]
    },
    {
     "data": {
      "text/plain": [
       "9"
      ]
     },
     "execution_count": 3,
     "metadata": {},
     "output_type": "execute_result"
    }
   ],
   "source": [
    "import numpy as np\n",
    "\n",
    "\n",
    "def game_core_v6(number):\n",
    "    '''Сначала устанавливаем любое random число, а потом уменьшаем или увеличиваем его, деля пополам отрезки от числа и до края последовательности чисел, которую уточняем на каждом шаге цикла.\n",
    "    Функция принимает загаданное число и возвращает число попыток'''\n",
    "    count=1\n",
    "    predict = np.random.randint(1,101) # предполагаемое число\n",
    "    high_border=100 # начальное значение верхней границы последовательности чисел\n",
    "    if number==1: # провряем крайние значения\n",
    "        count=1    \n",
    "    elif number==100: # провряем крайние значения\n",
    "         count=1        \n",
    "    else:\n",
    "        while number!=predict:\n",
    "            count+=1\n",
    "            if number>predict:\n",
    "                predict+=(high_border-predict)//2 # уточняем число сверху\n",
    "            \n",
    "            elif number<predict :\n",
    "                high_border=predict\n",
    "                predict=predict//2  # уточняем число снизу\n",
    "    return(count)       \n",
    "\n",
    "\n",
    "def score_game(game_core):\n",
    "    '''Запускаем игру 1000 раз, чтобы узнать, как быстро игра угадывает число'''\n",
    "    count_ls = []\n",
    "    np.random.seed(1)  # фиксируем RANDOM SEED, чтобы ваш эксперимент был воспроизводим!\n",
    "    random_array = np.random.randint(1,101, size=(1000))\n",
    "    for number in random_array:\n",
    "        count_ls.append(game_core(number))\n",
    "    score = int(np.mean(count_ls))\n",
    "    print(f\"Ваш алгоритм угадывает число в среднем за {score} попыток\")\n",
    "    return(score)\n",
    "\n",
    "score_game(game_core_v6)"
   ]
  },
  {
   "cell_type": "code",
   "execution_count": null,
   "metadata": {},
   "outputs": [],
   "source": []
  }
 ],
 "metadata": {
  "kernelspec": {
   "display_name": "Python 3",
   "language": "python",
   "name": "python3"
  },
  "language_info": {
   "codemirror_mode": {
    "name": "ipython",
    "version": 3
   },
   "file_extension": ".py",
   "mimetype": "text/x-python",
   "name": "python",
   "nbconvert_exporter": "python",
   "pygments_lexer": "ipython3",
   "version": "3.8.3"
  }
 },
 "nbformat": 4,
 "nbformat_minor": 4
}
